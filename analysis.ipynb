{
  "cells": [
    {
      "cell_type": "code",
      "execution_count": null,
      "metadata": {
        "id": "MPidJqJeuDRz"
      },
      "outputs": [],
      "source": [
        "import pandas as pd\n",
        "import numpy as np\n",
        "import matplotlib.pyplot as plt\n",
        "import seaborn as sns\n",
        "from sklearn.linear_model import LinearRegression, Ridge, Lasso\n",
        "from sklearn.model_selection import train_test_split\n",
        "from sklearn.metrics import accuracy_score\n",
        "from sklearn.preprocessing import StandardScaler\n",
        "from statsmodels. tsa.stattools import adfuller\n",
        "#from arch.unitroot import PhillipsPerron, ADF\n",
        "import statsmodels.api as sm\n",
        "from statsmodels.graphics import tsaplots\n",
        "import datetime \n",
        "\n",
        "%matplotlib inline\n",
        "\n",
        "sns.set(style=\"darkgrid\")"
      ]
    },
    {
      "cell_type": "code",
      "execution_count": null,
      "metadata": {
        "id": "vDq1XfBwwm8M"
      },
      "outputs": [],
      "source": [
        "ans = pd.read_csv('/content/new_for_cource.csv')"
      ]
    },
    {
      "cell_type": "code",
      "execution_count": null,
      "metadata": {
        "id": "SmNkto5Qt0w4"
      },
      "outputs": [],
      "source": [
        "data = pd.read_csv('/content/data (1).csv')\n",
        "data"
      ]
    },
    {
      "cell_type": "code",
      "execution_count": null,
      "metadata": {
        "id": "xlZaAniS09P1"
      },
      "outputs": [],
      "source": [
        "data.columns"
      ]
    },
    {
      "cell_type": "code",
      "execution_count": null,
      "metadata": {
        "id": "92vqvKdmuDVL"
      },
      "outputs": [],
      "source": [
        "corrmat = data[['Source', 'Bt-med', 'Bt-min', 'Bt-max', 'Bx-med',\n",
        "       'Bx-min', 'Bx-max', 'By-med', 'By-min', 'By-max', 'Bz-med', 'Bz-min',\n",
        "       'Bz-max', 'Phi-mean', 'Phi-min', 'Phi-max', 'Theta-med', 'Theta-min',\n",
        "       'Theta-max', 'Dens-med', 'Dens-min', 'Dens-max', 'Speed-med',\n",
        "       'Speed-min', 'Speed-max', 'Temp-med', 'Temp-min', 'Temp-max', 'ans']].corr()\n",
        "plt.figure(figsize=(7, 7))\n",
        "sns.heatmap(corrmat, square=True)\n",
        "plt.show()"
      ]
    },
    {
      "cell_type": "code",
      "execution_count": null,
      "metadata": {
        "id": "cw6gLcyUBj1e"
      },
      "outputs": [],
      "source": [
        "for i in range(31):\n",
        "    print(f'описательная статистика для переменной: {data.columns[i]}: {data.iloc[:, i].describe()}')"
      ]
    },
    {
      "cell_type": "code",
      "execution_count": null,
      "metadata": {
        "colab": {
          "base_uri": "https://localhost:8080/"
        },
        "id": "v8pg5Hv2fZrg",
        "outputId": "256094a8-3f45-47a5-d8c1-7d354c7e97b7"
      },
      "outputs": [
        {
          "name": "stdout",
          "output_type": "stream",
          "text": [
            "Looking in indexes: https://pypi.org/simple, https://us-python.pkg.dev/colab-wheels/public/simple/\n",
            "Requirement already satisfied: arch in /usr/local/lib/python3.10/dist-packages (5.5.0)\n",
            "Requirement already satisfied: numpy>=1.17 in /usr/local/lib/python3.10/dist-packages (from arch) (1.22.4)\n",
            "Requirement already satisfied: scipy>=1.3 in /usr/local/lib/python3.10/dist-packages (from arch) (1.10.1)\n",
            "Requirement already satisfied: pandas>=1.0 in /usr/local/lib/python3.10/dist-packages (from arch) (1.5.3)\n",
            "Requirement already satisfied: statsmodels>=0.11 in /usr/local/lib/python3.10/dist-packages (from arch) (0.13.5)\n",
            "Requirement already satisfied: property-cached>=1.6.4 in /usr/local/lib/python3.10/dist-packages (from arch) (1.6.4)\n",
            "Requirement already satisfied: python-dateutil>=2.8.1 in /usr/local/lib/python3.10/dist-packages (from pandas>=1.0->arch) (2.8.2)\n",
            "Requirement already satisfied: pytz>=2020.1 in /usr/local/lib/python3.10/dist-packages (from pandas>=1.0->arch) (2022.7.1)\n",
            "Requirement already satisfied: patsy>=0.5.2 in /usr/local/lib/python3.10/dist-packages (from statsmodels>=0.11->arch) (0.5.3)\n",
            "Requirement already satisfied: packaging>=21.3 in /usr/local/lib/python3.10/dist-packages (from statsmodels>=0.11->arch) (23.1)\n",
            "Requirement already satisfied: six in /usr/local/lib/python3.10/dist-packages (from patsy>=0.5.2->statsmodels>=0.11->arch) (1.16.0)\n"
          ]
        }
      ],
      "source": [
        "!pip install arch"
      ]
    },
    {
      "cell_type": "code",
      "execution_count": null,
      "metadata": {
        "id": "kA9OPVY7Bj3_"
      },
      "outputs": [],
      "source": [
        "!pip install statsmodels"
      ]
    },
    {
      "cell_type": "code",
      "execution_count": null,
      "metadata": {
        "id": "G82UaVUY36du"
      },
      "outputs": [],
      "source": []
    },
    {
      "cell_type": "code",
      "execution_count": null,
      "metadata": {
        "id": "xOWCoOKpBj7f"
      },
      "outputs": [],
      "source": [
        "\n",
        "\n",
        "#perform augmented Dickey-Fuller test\n",
        "res = adfuller(data['ans'], regression = 'ct')\n",
        "print('Augmneted Dickey_fuller Statistic: %f' % res[0])\n",
        "print('p-value: %f' % res[1])\n",
        " \n",
        "# printing the critical values at different alpha levels.\n",
        "print('critical values at different levels:')\n",
        "for k, v in res[4].items():\n",
        "    print('\\t%s: %.3f' % (k, v))"
      ]
    },
    {
      "cell_type": "code",
      "execution_count": null,
      "metadata": {
        "id": "ZbqmHJqxBkCv"
      },
      "outputs": [],
      "source": [
        "PhillipsPerron(data[\"ans\"])"
      ]
    },
    {
      "cell_type": "code",
      "execution_count": null,
      "metadata": {
        "id": "xN4IfpHGBkGQ"
      },
      "outputs": [],
      "source": [
        "kpss = sm.tsa.stattools.kpss(data['ans'], regression='ct')\n",
        "print('KPSS Statistic: %f' % kpss[0])\n",
        "print('p-value: %f' % kpss[1])\n",
        " \n",
        "# printing the critical values at different alpha levels.\n",
        "print('critical values at different levels:')\n",
        "for k, v in kpss[3].items():\n",
        "    print('\\t%s: %.3f' % (k, v))"
      ]
    },
    {
      "cell_type": "code",
      "execution_count": null,
      "metadata": {
        "id": "8Ek7ZZbjmdot"
      },
      "outputs": [],
      "source": []
    },
    {
      "cell_type": "code",
      "execution_count": null,
      "metadata": {
        "id": "vPA6nf4EmeJA"
      },
      "outputs": [],
      "source": [
        "fig = tsaplots.plot_acf(data['ans'], lags=100)\n",
        "plt.show()"
      ]
    },
    {
      "cell_type": "code",
      "execution_count": null,
      "metadata": {
        "id": "w2t1i5eZmeL1"
      },
      "outputs": [],
      "source": []
    },
    {
      "cell_type": "code",
      "execution_count": null,
      "metadata": {
        "id": "V-ONxGUUwl7N"
      },
      "outputs": [],
      "source": []
    },
    {
      "cell_type": "code",
      "execution_count": null,
      "metadata": {
        "id": "9tpBNwp3mePc"
      },
      "outputs": [],
      "source": []
    },
    {
      "cell_type": "code",
      "execution_count": null,
      "metadata": {
        "colab": {
          "base_uri": "https://localhost:8080/"
        },
        "id": "6vypej8g3yrj",
        "outputId": "4fbe1285-42f2-4234-86bc-c947c62f0b69"
      },
      "outputs": [
        {
          "data": {
            "text/plain": [
              "datetime.datetime(2019, 12, 31, 0, 0)"
            ]
          },
          "execution_count": 3,
          "metadata": {},
          "output_type": "execute_result"
        }
      ],
      "source": [
        "base = datetime.datetime(1960, 1, 1)\n",
        "date_list = [base + datetime.timedelta(days=x) for x in range(21915)]\n",
        "date_list[-1]"
      ]
    },
    {
      "cell_type": "code",
      "execution_count": null,
      "metadata": {
        "id": "3Rch-nLZ3yzv"
      },
      "outputs": [],
      "source": [
        "ssn = pd.DataFrame()"
      ]
    },
    {
      "cell_type": "code",
      "execution_count": null,
      "metadata": {
        "colab": {
          "base_uri": "https://localhost:8080/",
          "height": 423
        },
        "id": "750jtCTR6-7L",
        "outputId": "6add69f5-7b84-446a-b7a3-70cf8560d83c"
      },
      "outputs": [
        {
          "data": {
            "text/html": [
              "\n",
              "  <div id=\"df-006afb31-40a4-4adf-8049-9b641a7e5a86\">\n",
              "    <div class=\"colab-df-container\">\n",
              "      <div>\n",
              "<style scoped>\n",
              "    .dataframe tbody tr th:only-of-type {\n",
              "        vertical-align: middle;\n",
              "    }\n",
              "\n",
              "    .dataframe tbody tr th {\n",
              "        vertical-align: top;\n",
              "    }\n",
              "\n",
              "    .dataframe thead th {\n",
              "        text-align: right;\n",
              "    }\n",
              "</style>\n",
              "<table border=\"1\" class=\"dataframe\">\n",
              "  <thead>\n",
              "    <tr style=\"text-align: right;\">\n",
              "      <th></th>\n",
              "      <th>date</th>\n",
              "      <th>ans</th>\n",
              "    </tr>\n",
              "  </thead>\n",
              "  <tbody>\n",
              "    <tr>\n",
              "      <th>0</th>\n",
              "      <td>1960-01-01</td>\n",
              "      <td>193</td>\n",
              "    </tr>\n",
              "    <tr>\n",
              "      <th>1</th>\n",
              "      <td>1960-01-02</td>\n",
              "      <td>200</td>\n",
              "    </tr>\n",
              "    <tr>\n",
              "      <th>2</th>\n",
              "      <td>1960-01-03</td>\n",
              "      <td>210</td>\n",
              "    </tr>\n",
              "    <tr>\n",
              "      <th>3</th>\n",
              "      <td>1960-01-04</td>\n",
              "      <td>227</td>\n",
              "    </tr>\n",
              "    <tr>\n",
              "      <th>4</th>\n",
              "      <td>1960-01-05</td>\n",
              "      <td>238</td>\n",
              "    </tr>\n",
              "    <tr>\n",
              "      <th>...</th>\n",
              "      <td>...</td>\n",
              "      <td>...</td>\n",
              "    </tr>\n",
              "    <tr>\n",
              "      <th>21910</th>\n",
              "      <td>2019-12-27</td>\n",
              "      <td>0</td>\n",
              "    </tr>\n",
              "    <tr>\n",
              "      <th>21911</th>\n",
              "      <td>2019-12-28</td>\n",
              "      <td>0</td>\n",
              "    </tr>\n",
              "    <tr>\n",
              "      <th>21912</th>\n",
              "      <td>2019-12-29</td>\n",
              "      <td>0</td>\n",
              "    </tr>\n",
              "    <tr>\n",
              "      <th>21913</th>\n",
              "      <td>2019-12-30</td>\n",
              "      <td>0</td>\n",
              "    </tr>\n",
              "    <tr>\n",
              "      <th>21914</th>\n",
              "      <td>2019-12-31</td>\n",
              "      <td>0</td>\n",
              "    </tr>\n",
              "  </tbody>\n",
              "</table>\n",
              "<p>21915 rows × 2 columns</p>\n",
              "</div>\n",
              "      <button class=\"colab-df-convert\" onclick=\"convertToInteractive('df-006afb31-40a4-4adf-8049-9b641a7e5a86')\"\n",
              "              title=\"Convert this dataframe to an interactive table.\"\n",
              "              style=\"display:none;\">\n",
              "        \n",
              "  <svg xmlns=\"http://www.w3.org/2000/svg\" height=\"24px\"viewBox=\"0 0 24 24\"\n",
              "       width=\"24px\">\n",
              "    <path d=\"M0 0h24v24H0V0z\" fill=\"none\"/>\n",
              "    <path d=\"M18.56 5.44l.94 2.06.94-2.06 2.06-.94-2.06-.94-.94-2.06-.94 2.06-2.06.94zm-11 1L8.5 8.5l.94-2.06 2.06-.94-2.06-.94L8.5 2.5l-.94 2.06-2.06.94zm10 10l.94 2.06.94-2.06 2.06-.94-2.06-.94-.94-2.06-.94 2.06-2.06.94z\"/><path d=\"M17.41 7.96l-1.37-1.37c-.4-.4-.92-.59-1.43-.59-.52 0-1.04.2-1.43.59L10.3 9.45l-7.72 7.72c-.78.78-.78 2.05 0 2.83L4 21.41c.39.39.9.59 1.41.59.51 0 1.02-.2 1.41-.59l7.78-7.78 2.81-2.81c.8-.78.8-2.07 0-2.86zM5.41 20L4 18.59l7.72-7.72 1.47 1.35L5.41 20z\"/>\n",
              "  </svg>\n",
              "      </button>\n",
              "      \n",
              "  <style>\n",
              "    .colab-df-container {\n",
              "      display:flex;\n",
              "      flex-wrap:wrap;\n",
              "      gap: 12px;\n",
              "    }\n",
              "\n",
              "    .colab-df-convert {\n",
              "      background-color: #E8F0FE;\n",
              "      border: none;\n",
              "      border-radius: 50%;\n",
              "      cursor: pointer;\n",
              "      display: none;\n",
              "      fill: #1967D2;\n",
              "      height: 32px;\n",
              "      padding: 0 0 0 0;\n",
              "      width: 32px;\n",
              "    }\n",
              "\n",
              "    .colab-df-convert:hover {\n",
              "      background-color: #E2EBFA;\n",
              "      box-shadow: 0px 1px 2px rgba(60, 64, 67, 0.3), 0px 1px 3px 1px rgba(60, 64, 67, 0.15);\n",
              "      fill: #174EA6;\n",
              "    }\n",
              "\n",
              "    [theme=dark] .colab-df-convert {\n",
              "      background-color: #3B4455;\n",
              "      fill: #D2E3FC;\n",
              "    }\n",
              "\n",
              "    [theme=dark] .colab-df-convert:hover {\n",
              "      background-color: #434B5C;\n",
              "      box-shadow: 0px 1px 3px 1px rgba(0, 0, 0, 0.15);\n",
              "      filter: drop-shadow(0px 1px 2px rgba(0, 0, 0, 0.3));\n",
              "      fill: #FFFFFF;\n",
              "    }\n",
              "  </style>\n",
              "\n",
              "      <script>\n",
              "        const buttonEl =\n",
              "          document.querySelector('#df-006afb31-40a4-4adf-8049-9b641a7e5a86 button.colab-df-convert');\n",
              "        buttonEl.style.display =\n",
              "          google.colab.kernel.accessAllowed ? 'block' : 'none';\n",
              "\n",
              "        async function convertToInteractive(key) {\n",
              "          const element = document.querySelector('#df-006afb31-40a4-4adf-8049-9b641a7e5a86');\n",
              "          const dataTable =\n",
              "            await google.colab.kernel.invokeFunction('convertToInteractive',\n",
              "                                                     [key], {});\n",
              "          if (!dataTable) return;\n",
              "\n",
              "          const docLinkHtml = 'Like what you see? Visit the ' +\n",
              "            '<a target=\"_blank\" href=https://colab.research.google.com/notebooks/data_table.ipynb>data table notebook</a>'\n",
              "            + ' to learn more about interactive tables.';\n",
              "          element.innerHTML = '';\n",
              "          dataTable['output_type'] = 'display_data';\n",
              "          await google.colab.output.renderOutput(dataTable, element);\n",
              "          const docLink = document.createElement('div');\n",
              "          docLink.innerHTML = docLinkHtml;\n",
              "          element.appendChild(docLink);\n",
              "        }\n",
              "      </script>\n",
              "    </div>\n",
              "  </div>\n",
              "  "
            ],
            "text/plain": [
              "            date  ans\n",
              "0     1960-01-01  193\n",
              "1     1960-01-02  200\n",
              "2     1960-01-03  210\n",
              "3     1960-01-04  227\n",
              "4     1960-01-05  238\n",
              "...          ...  ...\n",
              "21910 2019-12-27    0\n",
              "21911 2019-12-28    0\n",
              "21912 2019-12-29    0\n",
              "21913 2019-12-30    0\n",
              "21914 2019-12-31    0\n",
              "\n",
              "[21915 rows x 2 columns]"
            ]
          },
          "execution_count": 5,
          "metadata": {},
          "output_type": "execute_result"
        }
      ],
      "source": [
        "ssn['date'] = date_list\n",
        "ssn['ans'] = ans\n",
        "#ssn.set_index(ssn['date'])\n",
        "ssn"
      ]
    },
    {
      "cell_type": "code",
      "execution_count": null,
      "metadata": {
        "id": "DqqO5KAt-jhE"
      },
      "outputs": [],
      "source": [
        "ssn['ans'].describe()"
      ]
    },
    {
      "cell_type": "code",
      "execution_count": null,
      "metadata": {
        "id": "p2ggk91X7tJw"
      },
      "outputs": [],
      "source": [
        "ans.plot()"
      ]
    },
    {
      "cell_type": "code",
      "execution_count": null,
      "metadata": {
        "id": "RdKCUo4_6_Af"
      },
      "outputs": [],
      "source": [
        "res = adfuller(ans, regression = 'c')\n",
        "print('Augmneted Dickey_fuller Statistic: %f' % res[0])\n",
        "print('p-value: %f' % res[1])\n",
        " \n",
        "# printing the critical values at different alpha levels.\n",
        "print('critical values at different levels:')\n",
        "for k, v in res[4].items():\n",
        "    print('\\t%s: %.3f' % (k, v))"
      ]
    },
    {
      "cell_type": "code",
      "execution_count": null,
      "metadata": {
        "id": "13_Vrqqd7jH3"
      },
      "outputs": [],
      "source": [
        "PhillipsPerron(ans)"
      ]
    },
    {
      "cell_type": "code",
      "execution_count": null,
      "metadata": {
        "id": "bKxkyikKCv8Y"
      },
      "outputs": [],
      "source": [
        "kpss = sm.tsa.stattools.kpss(ans, regression='ct')\n",
        "print('KPSS Statistic: %f' % kpss[0])\n",
        "print('p-value: %f' % kpss[1])\n",
        " \n",
        "# printing the critical values at different alpha levels.\n",
        "print('critical values at different levels:')\n",
        "for k, v in kpss[3].items():\n",
        "    print('\\t%s: %.3f' % (k, v))"
      ]
    },
    {
      "cell_type": "code",
      "execution_count": null,
      "metadata": {
        "id": "m8rFkAYTGH1r"
      },
      "outputs": [],
      "source": [
        "adf_ct = ADF(ans, trend = 'ct')\n",
        "adf_ct.summary()"
      ]
    },
    {
      "cell_type": "code",
      "execution_count": null,
      "metadata": {
        "id": "c3yMVfZdJKjB"
      },
      "outputs": [],
      "source": [
        "ADF(ans, trend = 'n')"
      ]
    },
    {
      "cell_type": "code",
      "execution_count": null,
      "metadata": {
        "id": "ESRFWpDl7jPB"
      },
      "outputs": [],
      "source": [
        "fig = tsaplots.plot_acf(ans, lags=100)\n",
        "plt.show()"
      ]
    },
    {
      "cell_type": "code",
      "execution_count": null,
      "metadata": {
        "id": "Qhb2vWNH7jV1"
      },
      "outputs": [],
      "source": [
        "fig = tsaplots.plot_pacf(ans, lags=100)\n",
        "plt.show()"
      ]
    },
    {
      "cell_type": "code",
      "execution_count": null,
      "metadata": {
        "id": "k1j4ENfKfD1k"
      },
      "outputs": [],
      "source": []
    },
    {
      "cell_type": "code",
      "execution_count": null,
      "metadata": {
        "id": "nMwwAbB_f99u"
      },
      "outputs": [],
      "source": [
        "import warnings\n",
        "warnings.filterwarnings('ignore')\n",
        "from tqdm import tqdm\n",
        "from itertools import product\n",
        "ps = range(0, 3)\n",
        "d=1\n",
        "qs = range(0, 3)\n",
        "Ps = range(0, 3)\n",
        "D=1\n",
        "Qs = range(0, 1)\n",
        "parameters = product(ps, qs, Ps, Qs)\n",
        "parameters_list = list(parameters)"
      ]
    },
    {
      "cell_type": "code",
      "execution_count": null,
      "metadata": {
        "colab": {
          "base_uri": "https://localhost:8080/"
        },
        "id": "EJ-dDb5O7jjD",
        "outputId": "39c1f26c-e171-4a87-920b-a42fe70b02de"
      },
      "outputs": [
        {
          "name": "stderr",
          "output_type": "stream",
          "text": [
            "\r  0%|          | 0/27 [00:00<?, ?it/s]"
          ]
        }
      ],
      "source": [
        "results = []\n",
        "best_aic = float(\"inf\")\n",
        "\n",
        "for param in tqdm(parameters_list):\n",
        "    #try except нужен, потому что на некоторых наборах параметров модель не обучается\n",
        "    try:\n",
        "        model=sm.tsa.statespace.SARIMAX(ans, order=(param[0], d, param[1]), \n",
        "                                        seasonal_order=(param[2], D, param[3], 365)).fit(disp=-1)\n",
        "    #выводим параметры, на которых модель не обучается и переходим к следующему набору\n",
        "    except ValueError:\n",
        "        print('wrong parameters:', param)\n",
        "        continue\n",
        "    aic = model.aic\n",
        "    #сохраняем лучшую модель, aic, параметры\n",
        "    if aic < best_aic:\n",
        "        best_model = model\n",
        "        best_aic = aic\n",
        "        best_param = param\n",
        "    results.append([param, model.aic])\n",
        "\n",
        "warnings.filterwarnings('default')\n",
        "\n",
        "result_table = pd.DataFrame(results)\n",
        "result_table.columns = ['parameters', 'aic']\n",
        "print(result_table.sort_values(by = 'aic', ascending=True).head())"
      ]
    },
    {
      "cell_type": "code",
      "execution_count": null,
      "metadata": {
        "id": "HOEpis2qGIYi"
      },
      "outputs": [],
      "source": [
        "best_model = sm.tsa.statespace.SARIMA(ans, order=(1, 0, 0), \n",
        "                                        seasonal_order=(1, 0, 0, 365)).fit(disp=-1)\n",
        "print(best_model.summary())"
      ]
    },
    {
      "cell_type": "code",
      "execution_count": null,
      "metadata": {
        "id": "gGrY8gGexsEz"
      },
      "outputs": [],
      "source": [
        "from statsmodels.tsa.arima_model import ARIMA"
      ]
    },
    {
      "cell_type": "code",
      "execution_count": null,
      "metadata": {
        "id": "Kergm3KhxkLO"
      },
      "outputs": [],
      "source": [
        "from pmdarima.arima.utils import ndiffs"
      ]
    },
    {
      "cell_type": "code",
      "execution_count": null,
      "metadata": {
        "id": "NXCoUG4jGIET"
      },
      "outputs": [],
      "source": [
        "model = ARIMA(ans, order=(1, 2, 1))  \n",
        "fitted = model.fit(disp=-1)  \n",
        "print(fitted.summary())"
      ]
    },
    {
      "cell_type": "code",
      "execution_count": null,
      "metadata": {
        "colab": {
          "base_uri": "https://localhost:8080/"
        },
        "id": "014YTmCxMbvZ",
        "outputId": "5ba13cfd-5eaa-441c-b6e1-dd9004a3d15a"
      },
      "outputs": [
        {
          "data": {
            "text/plain": [
              "200"
            ]
          },
          "execution_count": 13,
          "metadata": {},
          "output_type": "execute_result"
        }
      ],
      "source": [
        "ssn.ans[1]"
      ]
    },
    {
      "cell_type": "code",
      "execution_count": null,
      "metadata": {
        "id": "_bbA49i0xWsl"
      },
      "outputs": [],
      "source": [
        "ans_diff = []\n",
        "for i in range(0, len(ans) - 1):\n",
        "    ans_diff.append(ssn.ans[i+1]-ssn.ans[i])\n"
      ]
    },
    {
      "cell_type": "code",
      "execution_count": null,
      "metadata": {
        "colab": {
          "base_uri": "https://localhost:8080/",
          "height": 451
        },
        "id": "dCbXWjKnMziX",
        "outputId": "fdba34cf-8535-4b62-b957-ea318a0d4f20"
      },
      "outputs": [
        {
          "data": {
            "text/plain": [
              "<Axes: >"
            ]
          },
          "execution_count": 16,
          "metadata": {},
          "output_type": "execute_result"
        },
        {
          "data": {
            "image/png": "[encoded data removed]",
            "text/plain": [
              "<Figure size 640x480 with 1 Axes>"
            ]
          },
          "metadata": {},
          "output_type": "display_data"
        }
      ],
      "source": [
        "ans.plot()"
      ]
    },
    {
      "cell_type": "code",
      "execution_count": null,
      "metadata": {
        "id": "AlKp-zZUxWvh"
      },
      "outputs": [],
      "source": [
        "ans_diff = pd.DataFrame(ans_diff)"
      ]
    },
    {
      "cell_type": "code",
      "execution_count": null,
      "metadata": {
        "colab": {
          "base_uri": "https://localhost:8080/",
          "height": 451
        },
        "id": "EN3eJxemxWy9",
        "outputId": "84ad2bc7-36d8-4646-ba24-a6d883c0a2d8"
      },
      "outputs": [
        {
          "data": {
            "text/plain": [
              "<Axes: >"
            ]
          },
          "execution_count": 19,
          "metadata": {},
          "output_type": "execute_result"
        },
        {
          "data": {
            "image/png": "[encoded data removed]",
            "text/plain": [
              "<Figure size 640x480 with 1 Axes>"
            ]
          },
          "metadata": {},
          "output_type": "display_data"
        }
      ],
      "source": [
        "ans_diff.plot()"
      ]
    },
    {
      "cell_type": "code",
      "execution_count": null,
      "metadata": {
        "colab": {
          "base_uri": "https://localhost:8080/"
        },
        "id": "mJCmavOEOAvj",
        "outputId": "a5bd354f-d4a1-4d06-ad21-535133a1ad7f"
      },
      "outputs": [
        {
          "name": "stdout",
          "output_type": "stream",
          "text": [
            "Looking in indexes: https://pypi.org/simple, https://us-python.pkg.dev/colab-wheels/public/simple/\n",
            "Requirement already satisfied: pmdarima in /usr/local/lib/python3.10/dist-packages (2.0.3)\n",
            "Requirement already satisfied: joblib>=0.11 in /usr/local/lib/python3.10/dist-packages (from pmdarima) (1.2.0)\n",
            "Requirement already satisfied: Cython!=0.29.18,!=0.29.31,>=0.29 in /usr/local/lib/python3.10/dist-packages (from pmdarima) (0.29.34)\n",
            "Requirement already satisfied: numpy>=1.21.2 in /usr/local/lib/python3.10/dist-packages (from pmdarima) (1.22.4)\n",
            "Requirement already satisfied: pandas>=0.19 in /usr/local/lib/python3.10/dist-packages (from pmdarima) (1.5.3)\n",
            "Requirement already satisfied: scikit-learn>=0.22 in /usr/local/lib/python3.10/dist-packages (from pmdarima) (1.2.2)\n",
            "Requirement already satisfied: scipy>=1.3.2 in /usr/local/lib/python3.10/dist-packages (from pmdarima) (1.10.1)\n",
            "Requirement already satisfied: statsmodels>=0.13.2 in /usr/local/lib/python3.10/dist-packages (from pmdarima) (0.13.5)\n",
            "Requirement already satisfied: urllib3 in /usr/local/lib/python3.10/dist-packages (from pmdarima) (1.26.15)\n",
            "Requirement already satisfied: setuptools!=50.0.0,>=38.6.0 in /usr/local/lib/python3.10/dist-packages (from pmdarima) (67.7.2)\n",
            "Requirement already satisfied: python-dateutil>=2.8.1 in /usr/local/lib/python3.10/dist-packages (from pandas>=0.19->pmdarima) (2.8.2)\n",
            "Requirement already satisfied: pytz>=2020.1 in /usr/local/lib/python3.10/dist-packages (from pandas>=0.19->pmdarima) (2022.7.1)\n",
            "Requirement already satisfied: threadpoolctl>=2.0.0 in /usr/local/lib/python3.10/dist-packages (from scikit-learn>=0.22->pmdarima) (3.1.0)\n",
            "Requirement already satisfied: patsy>=0.5.2 in /usr/local/lib/python3.10/dist-packages (from statsmodels>=0.13.2->pmdarima) (0.5.3)\n",
            "Requirement already satisfied: packaging>=21.3 in /usr/local/lib/python3.10/dist-packages (from statsmodels>=0.13.2->pmdarima) (23.1)\n",
            "Requirement already satisfied: six in /usr/local/lib/python3.10/dist-packages (from patsy>=0.5.2->statsmodels>=0.13.2->pmdarima) (1.16.0)\n"
          ]
        }
      ],
      "source": [
        "!pip install pmdarima"
      ]
    },
    {
      "cell_type": "code",
      "execution_count": null,
      "metadata": {
        "id": "oqrsvxkXOvQD"
      },
      "outputs": [],
      "source": [
        "df = ssn\n",
        "date_list = [base + datetime.timedelta(days=x) for x in range(21915)]\n",
        "df['index'] = date_list\n",
        "df = df.rename(columns={\"index\":\"ds\", \"ans\":'y'})"
      ]
    },
    {
      "cell_type": "code",
      "execution_count": null,
      "metadata": {
        "colab": {
          "base_uri": "https://localhost:8080/"
        },
        "id": "5stYfy-nOvcJ",
        "outputId": "dc905417-3d2b-4a77-bd4a-a6dda81c8c97"
      },
      "outputs": [
        {
          "name": "stderr",
          "output_type": "stream",
          "text": [
            "<ipython-input-8-ede09de5bbdc>:1: FutureWarning: Dropping of nuisance columns in rolling operations is deprecated; in a future version this will raise TypeError. Select only valid columns before calling the operation. Dropped columns were Index(['date', 'ds'], dtype='object')\n",
            "  df[df['y']==0]['y'] += df.rolling(5).mean()[df['y']==0]['y']\n",
            "<ipython-input-8-ede09de5bbdc>:1: SettingWithCopyWarning: \n",
            "A value is trying to be set on a copy of a slice from a DataFrame.\n",
            "Try using .loc[row_indexer,col_indexer] = value instead\n",
            "\n",
            "See the caveats in the documentation: https://pandas.pydata.org/pandas-docs/stable/user_guide/indexing.html#returning-a-view-versus-a-copy\n",
            "  df[df['y']==0]['y'] += df.rolling(5).mean()[df['y']==0]['y']\n"
          ]
        }
      ],
      "source": [
        "df[df['y']==0]['y'] += df.rolling(5).mean()[df['y']==0]['y'] "
      ]
    },
    {
      "cell_type": "code",
      "execution_count": null,
      "metadata": {
        "colab": {
          "base_uri": "https://localhost:8080/"
        },
        "id": "YiiLTJjwOA1c",
        "outputId": "540977c6-6709-46fb-9dc7-7c3551228c76"
      },
      "outputs": [
        {
          "name": "stdout",
          "output_type": "stream",
          "text": [
            "Performing stepwise search to minimize aic\n"
          ]
        }
      ],
      "source": [
        "import pmdarima as pm\n",
        "\n",
        "SARIMA_model = pm.auto_arima(df.iloc[:-11*365]['y'], \n",
        "                      start_p=1, \n",
        "                      start_q=1,\n",
        "                      test='adf', # use adftest to find optimal 'd'\n",
        "                      max_p=1, max_q=1, # maximum p and q\n",
        "                      m=365, # frequency of series (if m==1, seasonal is set to FALSE automatically)\n",
        "                      d=1, D = 1,# let model determine 'd'\n",
        "                      seasonal=True, # No Seasonality for standard ARIMA\n",
        "                      trace=True, #logs \n",
        "                      error_action='warn', #shows errors ('ignore' silences these)\n",
        "                      suppress_warnings=True,\n",
        "                      stepwise=True)"
      ]
    },
    {
      "cell_type": "code",
      "execution_count": null,
      "metadata": {
        "id": "F4WTYSDHbTOm"
      },
      "outputs": [],
      "source": [
        "import pmdarima as pm"
      ]
    },
    {
      "cell_type": "code",
      "execution_count": null,
      "metadata": {
        "id": "FYCfBZxMRZHn"
      },
      "outputs": [],
      "source": [
        "start_p=1, start_q=1,\n",
        "                             max_p=3, max_q=3, m=12,\n",
        "                             start_P=0, seasonal=True,\n",
        "                             d=1, D=1, trace=True,\n",
        "                             error_action='ignore',  # don't want to know if an order does not work\n",
        "                             suppress_warnings=True,  # don't want convergence warnings\n",
        "                             stepwise=True"
      ]
    },
    {
      "cell_type": "code",
      "execution_count": null,
      "metadata": {
        "colab": {
          "base_uri": "https://localhost:8080/",
          "height": 571
        },
        "id": "zxPpdIQdOA7U",
        "outputId": "ea367ea2-a8ba-4e43-e5ca-ad2916f28d2e"
      },
      "outputs": [
        {
          "data": {
            "image/png": "[encoded data removed]",
            "text/plain": [
              "<Figure size 1500x700 with 1 Axes>"
            ]
          },
          "metadata": {},
          "output_type": "display_data"
        }
      ],
      "source": [
        "def forecast(ARIMA_model, periods=11*365):\n",
        "    # Forecast\n",
        "    n_periods = periods\n",
        "    fitted, confint = ARIMA_model.predict(n_periods=n_periods, return_conf_int=True)\n",
        "    index_of_fc = pd.date_range(df.iloc[-11*365]['ds'] + pd.DateOffset(days=1), periods = n_periods)\n",
        "\n",
        "    # make series for plotting purpose\n",
        "    # fitted_series = pd.Series(fitted, index=index_of_fc)\n",
        "    # lower_series = pd.Series(confint[:, 0], index=index_of_fc)\n",
        "    # upper_series = pd.Series(confint[:, 1], index=index_of_fc)\n",
        "    pred = pd.DataFrame(data=fitted, columns=['pred'])\n",
        "    pred.index = index_of_fc\n",
        "    plt.figure(figsize=(15,7))\n",
        "    plt.plot(df['ds'], df[\"y\"], alpha=0.5)\n",
        "    plt.plot(pred['pred'])\n",
        "    # plt.fill_between(lower_series.index, \n",
        "    #                 lower_series, \n",
        "    #                 upper_series, \n",
        "    #                 color='k', alpha=.15)\n",
        "    plt.title(\"ARIMA prediction on test data\")\n",
        "    plt.show()\n",
        "a = forecast(SARIMA_model)"
      ]
    },
    {
      "cell_type": "code",
      "execution_count": null,
      "metadata": {
        "colab": {
          "background_save": true,
          "base_uri": "https://localhost:8080/"
        },
        "id": "g8n1LPx5bSEH",
        "outputId": "b0bda9e8-f6a4-4bfe-fa28-26ae250dfd2a"
      },
      "outputs": [
        {
          "name": "stdout",
          "output_type": "stream",
          "text": [
            "Performing stepwise search to minimize aic\n"
          ]
        }
      ],
      "source": [
        "model = pm.auto_arima(df.iloc[:-11*365]['y'], seasonal=True, m=365, \n",
        "                      information_criterion='aic', test='kpss',\n",
        "                      suppress_warnings=True, trace=True)\n",
        "# The best model\n",
        "model.set_params()\n",
        "model.summary()\n"
      ]
    },
    {
      "cell_type": "code",
      "execution_count": null,
      "metadata": {
        "id": "m8VPlRILblX4"
      },
      "outputs": [],
      "source": [
        "from pmdarima.pipeline import Pipeline\n",
        "from pmdarima.preprocessing import BoxCoxEndogTransformer\n",
        "import pmdarima as pm\n",
        "\n",
        "# Fit the model\n",
        "model = pm.auto_arima(df.iloc[:-11*365]['y'], seasonal=True, m=365, \n",
        "                      information_criterion='aic', test='kpss',  \n",
        "                      maxiter=150,\n",
        "                      suppress_warnings=True, trace=True, verbose=1)\n",
        "pred_SARIMA_conf_int = model_SARIMA.predict(test.shape[0], return_conf_int=True)[1]\n",
        "# Make forecasts\n",
        "pred_SARIMA = model_SARIMA.predict(test.shape[0])  # predict N steps into the future\n",
        "# Confidence interval\n",
        "pred_SARIMA_conf_int = model_SARIMA.predict(test.shape[0], return_conf_int=True)[1]\n",
        "lower_limits = [k[0] for k in pred_SARIMA_conf_int]\n",
        "upper_limits = [k[1] for k in pred_SARIMA_conf_int]"
      ]
    }
  ],
  "metadata": {
    "colab": {
      "provenance": []
    },
    "kernelspec": {
      "display_name": "Python 3",
      "name": "python3"
    },
    "language_info": {
      "name": "python"
    }
  },
  "nbformat": 4,
  "nbformat_minor": 0
}